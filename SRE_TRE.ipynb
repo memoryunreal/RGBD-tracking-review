{
 "cells": [
  {
   "cell_type": "markdown",
   "metadata": {},
   "source": [
    "# SRE & TRE dataset process"
   ]
  },
  {
   "cell_type": "markdown",
   "metadata": {},
   "source": [
    "## 1 TRE Temporal robustness evaluation "
   ]
  },
  {
   "cell_type": "code",
   "execution_count": 15,
   "metadata": {},
   "outputs": [
    {
     "name": "stdout",
     "output_type": "stream",
     "text": [
      "sequence: /data1/yjy/rgbd_benchmark/alldata/boxes_humans_room_occ_1/groundtruth.txt 31 frame has nan nan,nan,nan,nan\n",
      "\n",
      "sequence: /data1/yjy/rgbd_benchmark/alldata/boxes_humans_room_occ_1/groundtruth.txt 40 frame has nan nan,nan,nan,nan\n",
      "\n",
      "sequence: /data1/yjy/rgbd_benchmark/alldata/boxes_humans_room_occ_1/groundtruth.txt 50 frame has nan nan,nan,nan,nan\n",
      "\n",
      "sequence: /data1/yjy/rgbd_benchmark/alldata/pot_indoor/groundtruth.txt 10 frame has nan -1.000000,-1.000000,-1.000000,-1.000000\n",
      "\n",
      "sequence: /data1/yjy/rgbd_benchmark/alldata/pot_indoor/groundtruth.txt 20 frame has nan -1.000000,-1.000000,-1.000000,-1.000000\n",
      "\n",
      "sequence: /data1/yjy/rgbd_benchmark/alldata/pot_indoor/groundtruth.txt 31 frame has nan -1.000000,-1.000000,-1.000000,-1.000000\n",
      "\n",
      "sequence: /data1/yjy/rgbd_benchmark/alldata/pot_indoor/groundtruth.txt 40 frame has nan -1.000000,-1.000000,-1.000000,-1.000000\n",
      "\n",
      "sequence: /data1/yjy/rgbd_benchmark/alldata/pot_indoor/groundtruth.txt 50 frame has nan -1.000000,-1.000000,-1.000000,-1.000000\n",
      "\n"
     ]
    }
   ],
   "source": [
    "import os\n",
    "sequences_dir = '/data1/yjy/rgbd_benchmark/alldata/'\n",
    "sequence_list = os.listdir(sequences_dir)\n",
    "sequence_list.remove('list.txt')\n",
    "groundtruth_files = [os.path.join(sequences_dir, seq, 'groundtruth.txt') for seq in sequence_list]\n",
    "\n",
    "for gt in groundtruth_files:\n",
    "    with open(gt, 'r') as f:\n",
    "        value = f.readlines()\n",
    "    if 'nan' in value[9] or '-1' in value[9]:\n",
    "        print('sequence: {} 10 frame has nan {}'.format(gt, value[9]))\n",
    "    if 'nan' in value[19] or '-1' in value[19]:\n",
    "        print('sequence: {} 20 frame has nan {}'.format(gt, value[19]))\n",
    "\n",
    "    if 'nan' in value[29] or '-1' in value[29]:\n",
    "        print('sequence: {} 31 frame has nan {}'.format(gt, value[30]))\n",
    "    if 'nan' in value[39] or '-1' in value[39]:\n",
    "        print('sequence: {} 40 frame has nan {}'.format(gt, value[39]))\n",
    "    try:\n",
    "        if 'nan' in value[49] or '-1' in value[40]:\n",
    "            print('sequence: {} 50 frame has nan {}'.format(gt, value[49]))\n",
    "    except Exception as e:\n",
    "        print('sequence: {} has exception {}'.format(gt, e))"
   ]
  },
  {
   "cell_type": "code",
   "execution_count": null,
   "metadata": {},
   "outputs": [],
   "source": [
    "for gt in groundtruth_files:\n",
    "    with open(gt, 'r') as f:\n",
    "        value = f.readlines()\n",
    "    frame_num = len(value)\n",
    "\n",
    "    # 20% frame\n",
    "    frame_20_per = int(frame_num * 0.2)\n",
    "     \n",
    "\n",
    "\n",
    "\n",
    "     "
   ]
  },
  {
   "cell_type": "code",
   "execution_count": null,
   "metadata": {},
   "outputs": [],
   "source": []
  }
 ],
 "metadata": {
  "interpreter": {
   "hash": "c87a828caec08c6effaaf396c2e8094ecb6a980142725b1807c8989d07d8700a"
  },
  "kernelspec": {
   "display_name": "Python 3.9.7 64-bit ('nbconda': conda)",
   "language": "python",
   "name": "python3"
  },
  "language_info": {
   "codemirror_mode": {
    "name": "ipython",
    "version": 3
   },
   "file_extension": ".py",
   "mimetype": "text/x-python",
   "name": "python",
   "nbconvert_exporter": "python",
   "pygments_lexer": "ipython3",
   "version": "3.9.7"
  },
  "orig_nbformat": 4
 },
 "nbformat": 4,
 "nbformat_minor": 2
}
